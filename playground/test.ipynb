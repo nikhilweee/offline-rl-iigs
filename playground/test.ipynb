{
 "cells": [
  {
   "cell_type": "code",
   "execution_count": 6,
   "metadata": {},
   "outputs": [],
   "source": [
    "import numpy as np\n",
    "\n",
    "def simplex_3d():\n",
    "    range = np.linspace(0, 1, 21)\n",
    "    m = np.stack(\n",
    "        np.meshgrid(range, range), -1\n",
    "    ).reshape(-1, 2)\n",
    "    m = m[m[:, 0] + m[:, 1] <= 1]\n",
    "    s = 1 - m.sum(-1, keepdims=True)\n",
    "    c = np.concatenate([m, s], -1)\n",
    "    return c\n",
    "\n",
    "def possible_policies(action_mask):\n",
    "    simplex = simplex_3d()\n",
    "    for idx in range(3):\n",
    "        if action_mask[idx] == '0':\n",
    "            simplex = simplex[simplex[:, idx] == 0]\n",
    "    return simplex"
   ]
  },
  {
   "cell_type": "code",
   "execution_count": 7,
   "metadata": {},
   "outputs": [
    {
     "data": {
      "text/plain": [
       "231"
      ]
     },
     "execution_count": 7,
     "metadata": {},
     "output_type": "execute_result"
    }
   ],
   "source": [
    "possible_policies('111')"
   ]
  },
  {
   "cell_type": "code",
   "execution_count": null,
   "metadata": {},
   "outputs": [],
   "source": []
  }
 ],
 "metadata": {
  "kernelspec": {
   "display_name": "Singularity",
   "language": "python",
   "name": "singularity"
  },
  "language_info": {
   "codemirror_mode": {
    "name": "ipython",
    "version": 3
   },
   "file_extension": ".py",
   "mimetype": "text/x-python",
   "name": "python",
   "nbconvert_exporter": "python",
   "pygments_lexer": "ipython3",
   "version": "3.8.13"
  },
  "orig_nbformat": 4
 },
 "nbformat": 4,
 "nbformat_minor": 2
}
