{
 "cells": [
  {
   "cell_type": "code",
   "execution_count": 1,
   "id": "0d52c6b9",
   "metadata": {},
   "outputs": [],
   "source": [
    "import pyspiel\n",
    "from pprint import pprint"
   ]
  },
  {
   "cell_type": "code",
   "execution_count": 2,
   "id": "c9945f67",
   "metadata": {},
   "outputs": [],
   "source": [
    "def print_info(state):\n",
    "    print(state)\n",
    "    print('Initial State:', state.is_initial_state())\n",
    "    print('Terminal State:', state.is_terminal())\n",
    "    print('Current Player:', state.current_player())\n",
    "    print('Chance Node:', state.is_chance_node())\n",
    "    if state.is_chance_node():\n",
    "        print('Chance Outcomes:')\n",
    "        pprint(state.chance_outcomes())\n",
    "    elif not state.is_terminal():\n",
    "        print('Information State String:')\n",
    "        print(state.information_state_string())\n",
    "        print('Information State Tensor:')\n",
    "        print(state.information_state_tensor())\n",
    "        print(len(state.information_state_tensor()))\n",
    "    print()\n",
    "    if state.is_terminal():\n",
    "        print('Returns:', state.returns())\n",
    "    else:\n",
    "        print('Legal Actions:')\n",
    "        for action in state.legal_actions():\n",
    "            print(action, state.action_to_string(action))"
   ]
  },
  {
   "cell_type": "code",
   "execution_count": 3,
   "id": "e2e8ed21",
   "metadata": {},
   "outputs": [],
   "source": [
    "def print_game_info(game):\n",
    "    print(game.num_players())\n",
    "    print(game.max_utility())\n",
    "    print(game.min_utility())\n",
    "    print(game.num_distinct_actions())"
   ]
  },
  {
   "cell_type": "code",
   "execution_count": 4,
   "id": "dca1936a",
   "metadata": {},
   "outputs": [
    {
     "name": "stdout",
     "output_type": "stream",
     "text": [
      "2\n",
      "13.0\n",
      "-13.0\n",
      "3\n"
     ]
    }
   ],
   "source": [
    "game = pyspiel.load_game(\"leduc_poker\")\n",
    "print_game_info(game)"
   ]
  },
  {
   "cell_type": "code",
   "execution_count": 5,
   "id": "879fe9a1",
   "metadata": {},
   "outputs": [
    {
     "name": "stdout",
     "output_type": "stream",
     "text": [
      "Round: 1\n",
      "Player: -1\n",
      "Pot: 2\n",
      "Money (p1 p2 ...): 99 99\n",
      "Cards (public p1 p2 ...): -10000 -10000 -10000 \n",
      "Round 1 sequence: \n",
      "Round 2 sequence: \n",
      "\n",
      "Initial State: True\n",
      "Terminal State: False\n",
      "Current Player: -1\n",
      "Chance Node: True\n",
      "Chance Outcomes:\n",
      "[(0, 0.16666666666666666),\n",
      " (1, 0.16666666666666666),\n",
      " (2, 0.16666666666666666),\n",
      " (3, 0.16666666666666666),\n",
      " (4, 0.16666666666666666),\n",
      " (5, 0.16666666666666666)]\n",
      "\n",
      "Legal Actions:\n",
      "0 Chance outcome:0\n",
      "1 Chance outcome:1\n",
      "2 Chance outcome:2\n",
      "3 Chance outcome:3\n",
      "4 Chance outcome:4\n",
      "5 Chance outcome:5\n"
     ]
    }
   ],
   "source": [
    "state = game.new_initial_state()\n",
    "print_info(state)"
   ]
  },
  {
   "cell_type": "code",
   "execution_count": 6,
   "id": "1af67c63",
   "metadata": {},
   "outputs": [],
   "source": [
    "# cards are J1, J2, Q1, Q2, K1, K2"
   ]
  },
  {
   "cell_type": "code",
   "execution_count": 7,
   "id": "47c00d28",
   "metadata": {},
   "outputs": [
    {
     "name": "stdout",
     "output_type": "stream",
     "text": [
      "Round: 1\n",
      "Player: -1\n",
      "Pot: 2\n",
      "Money (p1 p2 ...): 99 99\n",
      "Cards (public p1 p2 ...): -10000 1 -10000 \n",
      "Round 1 sequence: \n",
      "Round 2 sequence: \n",
      "\n",
      "Initial State: False\n",
      "Terminal State: False\n",
      "Current Player: -1\n",
      "Chance Node: True\n",
      "Chance Outcomes:\n",
      "[(0, 0.2), (2, 0.2), (3, 0.2), (4, 0.2), (5, 0.2)]\n",
      "\n",
      "Legal Actions:\n",
      "0 Chance outcome:0\n",
      "2 Chance outcome:2\n",
      "3 Chance outcome:3\n",
      "4 Chance outcome:4\n",
      "5 Chance outcome:5\n"
     ]
    }
   ],
   "source": [
    "# Player 0 gets J1\n",
    "state.apply_action(1)\n",
    "print_info(state)"
   ]
  },
  {
   "cell_type": "code",
   "execution_count": 8,
   "id": "cd33b14a",
   "metadata": {},
   "outputs": [
    {
     "name": "stdout",
     "output_type": "stream",
     "text": [
      "Round: 1\n",
      "Player: 0\n",
      "Pot: 2\n",
      "Money (p1 p2 ...): 99 99\n",
      "Cards (public p1 p2 ...): -10000 1 5 \n",
      "Round 1 sequence: \n",
      "Round 2 sequence: \n",
      "\n",
      "Initial State: False\n",
      "Terminal State: False\n",
      "Current Player: 0\n",
      "Chance Node: False\n",
      "Information State String:\n",
      "[Observer: 0][Private: 1][Round 1][Player: 0][Pot: 2][Money: 99 99][Round1: ][Round2: ]\n",
      "Information State Tensor:\n",
      "[1.0, 0.0, 0.0, 1.0, 0.0, 0.0, 0.0, 0.0, 0.0, 0.0, 0.0, 0.0, 0.0, 0.0, 0.0, 0.0, 0.0, 0.0, 0.0, 0.0, 0.0, 0.0, 0.0, 0.0, 0.0, 0.0, 0.0, 0.0, 0.0, 0.0]\n",
      "30\n",
      "\n",
      "Legal Actions:\n",
      "1 Call\n",
      "2 Raise\n"
     ]
    }
   ],
   "source": [
    "# Player 1 gets K2\n",
    "state.apply_action(5)\n",
    "print_info(state)"
   ]
  },
  {
   "cell_type": "code",
   "execution_count": 9,
   "id": "07af92bf",
   "metadata": {},
   "outputs": [
    {
     "name": "stdout",
     "output_type": "stream",
     "text": [
      "Round: 1\n",
      "Player: 1\n",
      "Pot: 2\n",
      "Money (p1 p2 ...): 99 99\n",
      "Cards (public p1 p2 ...): -10000 1 5 \n",
      "Round 1 sequence: Call\n",
      "Round 2 sequence: \n",
      "\n",
      "Initial State: False\n",
      "Terminal State: False\n",
      "Current Player: 1\n",
      "Chance Node: False\n",
      "Information State String:\n",
      "[Observer: 1][Private: 5][Round 1][Player: 1][Pot: 2][Money: 99 99][Round1: 1][Round2: ]\n",
      "Information State Tensor:\n",
      "[0.0, 1.0, 0.0, 0.0, 0.0, 0.0, 0.0, 1.0, 0.0, 0.0, 0.0, 0.0, 0.0, 0.0, 1.0, 0.0, 0.0, 0.0, 0.0, 0.0, 0.0, 0.0, 0.0, 0.0, 0.0, 0.0, 0.0, 0.0, 0.0, 0.0]\n",
      "30\n",
      "\n",
      "Legal Actions:\n",
      "1 Call\n",
      "2 Raise\n"
     ]
    }
   ],
   "source": [
    "# Player 0 Calls\n",
    "state.apply_action(1)\n",
    "print_info(state)"
   ]
  },
  {
   "cell_type": "code",
   "execution_count": 10,
   "id": "add9ed6f",
   "metadata": {},
   "outputs": [
    {
     "name": "stdout",
     "output_type": "stream",
     "text": [
      "Round: 2\n",
      "Player: -1\n",
      "Pot: 2\n",
      "Money (p1 p2 ...): 99 99\n",
      "Cards (public p1 p2 ...): -10000 1 5 \n",
      "Round 1 sequence: Call, Call\n",
      "Round 2 sequence: \n",
      "\n",
      "Initial State: False\n",
      "Terminal State: False\n",
      "Current Player: -1\n",
      "Chance Node: True\n",
      "Chance Outcomes:\n",
      "[(0, 0.25), (2, 0.25), (3, 0.25), (4, 0.25)]\n",
      "\n",
      "Legal Actions:\n",
      "0 Chance outcome:0\n",
      "2 Chance outcome:2\n",
      "3 Chance outcome:3\n",
      "4 Chance outcome:4\n"
     ]
    }
   ],
   "source": [
    "# Player 1 Calls\n",
    "state.apply_action(1)\n",
    "print_info(state)"
   ]
  },
  {
   "cell_type": "code",
   "execution_count": 11,
   "id": "62109961",
   "metadata": {},
   "outputs": [
    {
     "name": "stdout",
     "output_type": "stream",
     "text": [
      "Round: 2\n",
      "Player: 0\n",
      "Pot: 2\n",
      "Money (p1 p2 ...): 99 99\n",
      "Cards (public p1 p2 ...): 3 1 5 \n",
      "Round 1 sequence: Call, Call\n",
      "Round 2 sequence: \n",
      "\n",
      "Initial State: False\n",
      "Terminal State: False\n",
      "Current Player: 0\n",
      "Chance Node: False\n",
      "Information State String:\n",
      "[Observer: 0][Private: 1][Round 2][Player: 0][Pot: 2][Money: 99 99][Public: 3][Round1: 1 1][Round2: ]\n",
      "Information State Tensor:\n",
      "[1.0, 0.0, 0.0, 1.0, 0.0, 0.0, 0.0, 0.0, 0.0, 0.0, 0.0, 1.0, 0.0, 0.0, 1.0, 0.0, 1.0, 0.0, 0.0, 0.0, 0.0, 0.0, 0.0, 0.0, 0.0, 0.0, 0.0, 0.0, 0.0, 0.0]\n",
      "30\n",
      "\n",
      "Legal Actions:\n",
      "1 Call\n",
      "2 Raise\n"
     ]
    }
   ],
   "source": [
    "# Reveal Q2\n",
    "state.apply_action(3)\n",
    "print_info(state)"
   ]
  },
  {
   "cell_type": "code",
   "execution_count": 12,
   "id": "b14381b1",
   "metadata": {},
   "outputs": [
    {
     "name": "stdout",
     "output_type": "stream",
     "text": [
      "Round: 2\n",
      "Player: 1\n",
      "Pot: 6\n",
      "Money (p1 p2 ...): 95 99\n",
      "Cards (public p1 p2 ...): 3 1 5 \n",
      "Round 1 sequence: Call, Call\n",
      "Round 2 sequence: Raise\n",
      "\n",
      "Initial State: False\n",
      "Terminal State: False\n",
      "Current Player: 1\n",
      "Chance Node: False\n",
      "Information State String:\n",
      "[Observer: 1][Private: 5][Round 2][Player: 1][Pot: 6][Money: 95 99][Public: 3][Round1: 1 1][Round2: 2]\n",
      "Information State Tensor:\n",
      "[0.0, 1.0, 0.0, 0.0, 0.0, 0.0, 0.0, 1.0, 0.0, 0.0, 0.0, 1.0, 0.0, 0.0, 1.0, 0.0, 1.0, 0.0, 0.0, 0.0, 0.0, 0.0, 0.0, 1.0, 0.0, 0.0, 0.0, 0.0, 0.0, 0.0]\n",
      "30\n",
      "\n",
      "Legal Actions:\n",
      "0 Fold\n",
      "1 Call\n",
      "2 Raise\n"
     ]
    }
   ],
   "source": [
    "# Player 0 Raises\n",
    "state.apply_action(2)\n",
    "print_info(state)"
   ]
  },
  {
   "cell_type": "code",
   "execution_count": 13,
   "id": "02732609",
   "metadata": {},
   "outputs": [
    {
     "name": "stdout",
     "output_type": "stream",
     "text": [
      "Round: 2\n",
      "Player: 0\n",
      "Pot: 14\n",
      "Money (p1 p2 ...): 95 91\n",
      "Cards (public p1 p2 ...): 3 1 5 \n",
      "Round 1 sequence: Call, Call\n",
      "Round 2 sequence: Raise, Raise\n",
      "\n",
      "Initial State: False\n",
      "Terminal State: False\n",
      "Current Player: 0\n",
      "Chance Node: False\n",
      "Information State String:\n",
      "[Observer: 0][Private: 1][Round 2][Player: 0][Pot: 14][Money: 95 91][Public: 3][Round1: 1 1][Round2: 2 2]\n",
      "Information State Tensor:\n",
      "[1.0, 0.0, 0.0, 1.0, 0.0, 0.0, 0.0, 0.0, 0.0, 0.0, 0.0, 1.0, 0.0, 0.0, 1.0, 0.0, 1.0, 0.0, 0.0, 0.0, 0.0, 0.0, 0.0, 1.0, 0.0, 1.0, 0.0, 0.0, 0.0, 0.0]\n",
      "30\n",
      "\n",
      "Legal Actions:\n",
      "0 Fold\n",
      "1 Call\n"
     ]
    }
   ],
   "source": [
    "# Player 1 Raises\n",
    "state.apply_action(2)\n",
    "print_info(state)"
   ]
  },
  {
   "cell_type": "code",
   "execution_count": 14,
   "id": "48cde1b3",
   "metadata": {},
   "outputs": [
    {
     "name": "stdout",
     "output_type": "stream",
     "text": [
      "Round: 2\n",
      "Player: 0\n",
      "Pot: 0\n",
      "Money (p1 p2 ...): 91 109\n",
      "Cards (public p1 p2 ...): 3 1 5 \n",
      "Round 1 sequence: Call, Call\n",
      "Round 2 sequence: Raise, Raise, Call\n",
      "\n",
      "Initial State: False\n",
      "Terminal State: True\n",
      "Current Player: -4\n",
      "Chance Node: False\n",
      "\n",
      "Returns: [-9.0, 9.0]\n"
     ]
    }
   ],
   "source": [
    "# Player 0 Calls\n",
    "state.apply_action(1)\n",
    "print_info(state)"
   ]
  }
 ],
 "metadata": {
  "kernelspec": {
   "display_name": "Singularity",
   "language": "python",
   "name": "singularity"
  },
  "language_info": {
   "codemirror_mode": {
    "name": "ipython",
    "version": 3
   },
   "file_extension": ".py",
   "mimetype": "text/x-python",
   "name": "python",
   "nbconvert_exporter": "python",
   "pygments_lexer": "ipython3",
   "version": "3.10.4"
  }
 },
 "nbformat": 4,
 "nbformat_minor": 5
}
